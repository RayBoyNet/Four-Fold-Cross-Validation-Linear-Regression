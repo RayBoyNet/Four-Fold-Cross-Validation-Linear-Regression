{
 "cells": [
  {
   "cell_type": "code",
   "execution_count": 1,
   "id": "56f34964",
   "metadata": {},
   "outputs": [],
   "source": [
    "import numpy as np\n",
    "import matplotlib.pyplot as plt"
   ]
  },
  {
   "cell_type": "markdown",
   "id": "865b20eb",
   "metadata": {},
   "source": [
    "## Linear regression is a popular regression learning algorithm that learns a model which is a linear combination of features of the input example."
   ]
  },
  {
   "cell_type": "code",
   "execution_count": 5,
   "id": "9a7f7410",
   "metadata": {},
   "outputs": [
    {
     "name": "stdout",
     "output_type": "stream",
     "text": [
      "X_train\n",
      " [[ 1.  0.]\n",
      " [ 1.  5.]\n",
      " [ 1. 10.]\n",
      " [ 1. 15.]\n",
      " [ 1. 20.]\n",
      " [ 1. 25.]\n",
      " [ 1. 30.]\n",
      " [ 1. 35.]\n",
      " [ 1. 40.]\n",
      " [ 1. 45.]\n",
      " [ 1. 50.]]\n"
     ]
    }
   ],
   "source": [
    "x_train = np.array([0,5,10,15,20,25,30,35,40,45,50])\n",
    "X_train = np.column_stack((np.ones(len(x_train)),x_train))\n",
    "\n",
    "print('X_train\\n',X_train)"
   ]
  },
  {
   "cell_type": "code",
   "execution_count": 6,
   "id": "fa469bf3",
   "metadata": {},
   "outputs": [
    {
     "name": "stdout",
     "output_type": "stream",
     "text": [
      "Y_train\n",
      " [1.3264 1.3357 1.3448 1.3532 1.3584 1.3668 1.3741 1.3818 1.3918 1.4018\n",
      " 1.4117]\n"
     ]
    }
   ],
   "source": [
    "Y_train = np.array([1.3264,1.3357,1.3448,1.3532,1.3584,1.3668,1.3741,1.3818,1.3918,1.4018,1.4117])\n",
    "\n",
    "print('Y_train\\n',Y_train)"
   ]
  },
  {
   "cell_type": "markdown",
   "id": "3e7c508b",
   "metadata": {},
   "source": [
    "### We have an overdetermined system. Inorder to compute the weights of the linear system, we need to first compute the pseudoinverse."
   ]
  },
  {
   "cell_type": "code",
   "execution_count": 20,
   "id": "abac891d",
   "metadata": {},
   "outputs": [
    {
     "name": "stdout",
     "output_type": "stream",
     "text": [
      "The line of best fit is as follows\n",
      "Y = 0.0016450909090909016m + 1.3267363636363638\n"
     ]
    }
   ],
   "source": [
    "X_inv = np.linalg.inv(X_train.T @ X_train) @ X_train.T\n",
    "\n",
    "w = X_inv @ Y_train\n",
    "\n",
    "print('The line of best fit is as follows')\n",
    "print(f'Y = {w[1]}m + {w[0]}')"
   ]
  },
  {
   "cell_type": "markdown",
   "id": "2b126120",
   "metadata": {},
   "source": [
    "## We can visualise the line of best fit by plotting a graph"
   ]
  },
  {
   "cell_type": "code",
   "execution_count": 22,
   "id": "1a322d90",
   "metadata": {},
   "outputs": [
    {
     "data": {
      "text/plain": [
       "[<matplotlib.lines.Line2D at 0x1d2b3dc3e80>]"
      ]
     },
     "execution_count": 22,
     "metadata": {},
     "output_type": "execute_result"
    },
    {
     "data": {
      "image/png": "[encoded data removed]",
      "text/plain": [
       "<Figure size 432x288 with 1 Axes>"
      ]
     },
     "metadata": {
      "needs_background": "light"
     },
     "output_type": "display_data"
    }
   ],
   "source": [
    "plt.plot(x_train,Y_train,'x')"
   ]
  },
  {
   "cell_type": "code",
   "execution_count": 40,
   "id": "ad8d4864",
   "metadata": {},
   "outputs": [
    {
     "data": {
      "text/plain": [
       "[<matplotlib.lines.Line2D at 0x1d2b70b3b20>]"
      ]
     },
     "execution_count": 40,
     "metadata": {},
     "output_type": "execute_result"
    },
    {
     "data": {
      "image/png": "[encoded data removed]",
      "text/plain": [
       "<Figure size 432x288 with 1 Axes>"
      ]
     },
     "metadata": {
      "needs_background": "light"
     },
     "output_type": "display_data"
    }
   ],
   "source": [
    "x = np.linspace(0,50)\n",
    "X = np.column_stack((np.ones(50),x))\n",
    "y = X @ w\n",
    "plt.plot(x,y)\n",
    "plt.plot(x_train,Y_train,'rx')"
   ]
  },
  {
   "cell_type": "code",
   "execution_count": null,
   "id": "84c41792",
   "metadata": {},
   "outputs": [],
   "source": []
  }
 ],
 "metadata": {
  "kernelspec": {
   "display_name": "Python 3 (ipykernel)",
   "language": "python",
   "name": "python3"
  },
  "language_info": {
   "codemirror_mode": {
    "name": "ipython",
    "version": 3
   },
   "file_extension": ".py",
   "mimetype": "text/x-python",
   "name": "python",
   "nbconvert_exporter": "python",
   "pygments_lexer": "ipython3",
   "version": "3.10.1"
  }
 },
 "nbformat": 4,
 "nbformat_minor": 5
}

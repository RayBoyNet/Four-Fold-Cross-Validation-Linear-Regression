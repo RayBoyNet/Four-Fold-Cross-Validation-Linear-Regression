{
 "cells": [
  {
   "cell_type": "code",
   "execution_count": 171,
   "id": "0b5b617a",
   "metadata": {},
   "outputs": [],
   "source": [
    "import numpy as np\n",
    "import matplotlib.pyplot as plt"
   ]
  },
  {
   "cell_type": "markdown",
   "id": "79ed796f",
   "metadata": {},
   "source": [
    "## We split the dataset into Training set and Validation set. By using 4 fold cross validation, we retrieve the best parameters to describe the linear relationship. We apply this to each laser light to understand which laser light produces the most accurate results"
   ]
  },
  {
   "cell_type": "markdown",
   "id": "982fe79d",
   "metadata": {},
   "source": [
    "## Red Diode Laser"
   ]
  },
  {
   "cell_type": "code",
   "execution_count": 151,
   "id": "87a8e808",
   "metadata": {},
   "outputs": [],
   "source": [
    "x = np.array([0,5,10,15,20,25,30,35,40,45,50])\n",
    "y = np.array([1.3264,1.3357,1.3448,1.3532,1.3584,1.3668,1.3741,1.3818,1.3918,1.4018,1.4117])"
   ]
  },
  {
   "cell_type": "markdown",
   "id": "cf97b95d",
   "metadata": {},
   "source": [
    "<img src=\"fold1.png\"/>"
   ]
  },
  {
   "cell_type": "code",
   "execution_count": 152,
   "id": "59f6232b",
   "metadata": {},
   "outputs": [
    {
     "data": {
      "text/plain": [
       "0.00010015344891975932"
      ]
     },
     "execution_count": 152,
     "metadata": {},
     "output_type": "execute_result"
    }
   ],
   "source": [
    "# Split into training and validation\n",
    "\n",
    "x_train = x[:9]\n",
    "X_train = np.column_stack((np.ones(len(x_train)),x_train))\n",
    "Y_train = y[:9]\n",
    "\n",
    "# Compute the weights\n",
    "\n",
    "w = np.linalg.inv(X_train.T @ X_train) @ X_train.T @ Y_train\n",
    "X_pred = np.column_stack((np.ones(len(x[9:])),x[9:]))\n",
    "\n",
    "# Compute prediction\n",
    "\n",
    "Y_pred = X_pred @ w\n",
    "Y_pred\n",
    "\n",
    "# Compute Mean Sum of Error\n",
    "\n",
    "MSE1 = 0.5*sum((Y_pred - y[10:])**2)\n",
    "MSE1"
   ]
  },
  {
   "cell_type": "markdown",
   "id": "b98c1653",
   "metadata": {},
   "source": [
    "<img src=\"fold2.png\"/>"
   ]
  },
  {
   "cell_type": "code",
   "execution_count": 153,
   "id": "255b54bd",
   "metadata": {},
   "outputs": [
    {
     "data": {
      "text/plain": [
       "8.51617321046931e-06"
      ]
     },
     "execution_count": 153,
     "metadata": {},
     "output_type": "execute_result"
    }
   ],
   "source": [
    "# Split into training and validation\n",
    "\n",
    "x_train = np.concatenate((x[:6],x[8:]))\n",
    "X_train = np.column_stack((np.ones(len(x_train)),x_train))\n",
    "Y_train = np.concatenate((y[:6],y[8:]))\n",
    "\n",
    "# Compute the weights\n",
    "\n",
    "w = np.linalg.inv(X_train.T @ X_train) @ X_train.T @ Y_train\n",
    "X_pred = np.column_stack((np.ones(len(x[6:8])),x[6:8]))\n",
    "\n",
    "# Compute prediction\n",
    "\n",
    "Y_pred = X_pred @ w\n",
    "Y_pred\n",
    "\n",
    "# Compute Mean Sum of Error\n",
    "\n",
    "MSE2 = 0.5*sum((Y_pred - y[6:8])**2)\n",
    "MSE2"
   ]
  },
  {
   "cell_type": "markdown",
   "id": "b49315e9",
   "metadata": {},
   "source": [
    "<img src=\"fold3.png\"/>"
   ]
  },
  {
   "cell_type": "code",
   "execution_count": 154,
   "id": "362ff9c1",
   "metadata": {},
   "outputs": [
    {
     "data": {
      "text/plain": [
       "2.0784064760022556e-05"
      ]
     },
     "execution_count": 154,
     "metadata": {},
     "output_type": "execute_result"
    }
   ],
   "source": [
    "# Split into training and validation\n",
    "\n",
    "x_train = np.concatenate((x[:3],x[5:]))\n",
    "X_train = np.column_stack((np.ones(len(x_train)),x_train))\n",
    "Y_train = np.concatenate((y[:3],y[5:]))\n",
    "\n",
    "# Compute the weights\n",
    "\n",
    "w = np.linalg.inv(X_train.T @ X_train) @ X_train.T @ Y_train\n",
    "X_pred = np.column_stack((np.ones(len(x[4:5])),x[4:5]))\n",
    "\n",
    "# Compute prediction\n",
    "\n",
    "Y_pred = X_pred @ w\n",
    "Y_pred\n",
    "\n",
    "# Compute Mean Sum of Error\n",
    "\n",
    "MSE3 = 0.5*sum((Y_pred - y[3:5])**2)\n",
    "MSE3"
   ]
  },
  {
   "cell_type": "markdown",
   "id": "f29de4fd",
   "metadata": {},
   "source": [
    "<img src=\"fold4.png\"/>"
   ]
  },
  {
   "cell_type": "code",
   "execution_count": 155,
   "id": "6e441bd4",
   "metadata": {},
   "outputs": [
    {
     "data": {
      "text/plain": [
       "4.329901234566744e-07"
      ]
     },
     "execution_count": 155,
     "metadata": {},
     "output_type": "execute_result"
    }
   ],
   "source": [
    "# Split into training and validation\n",
    "\n",
    "x_train = x[2:]\n",
    "X_train = np.column_stack((np.ones(len(x_train)),x_train))\n",
    "Y_train = y[2:]\n",
    "\n",
    "# Compute the weights\n",
    "\n",
    "w = np.linalg.inv(X_train.T @ X_train) @ X_train.T @ Y_train\n",
    "X_pred = np.column_stack((np.ones(len(x[:2])),x[:2]))\n",
    "\n",
    "# Compute prediction\n",
    "\n",
    "Y_pred = X_pred @ w\n",
    "Y_pred\n",
    "\n",
    "# Compute Mean Sum of Error\n",
    "\n",
    "MSE4 = 0.5*sum((Y_pred - y[:2])**2)\n",
    "MSE4"
   ]
  },
  {
   "cell_type": "markdown",
   "id": "7e0e1547",
   "metadata": {},
   "source": [
    "## He-Ne Laser"
   ]
  },
  {
   "cell_type": "code",
   "execution_count": 156,
   "id": "df4f6b0f",
   "metadata": {},
   "outputs": [],
   "source": [
    "x = np.array([0,5,10,15,20,25,30,35,40,45,50])\n",
    "y = np.array([1.3282,1.3380,1.3465,1.3558,1.3602,1.3688,1.3770,1.3848,1.3948,1.4041,1.4140])"
   ]
  },
  {
   "cell_type": "markdown",
   "id": "1aaf2325",
   "metadata": {},
   "source": [
    "<img src=\"fold1.png\"/>"
   ]
  },
  {
   "cell_type": "code",
   "execution_count": 157,
   "id": "2eb54e6f",
   "metadata": {},
   "outputs": [
    {
     "data": {
      "text/plain": [
       "8.594297777778059e-05"
      ]
     },
     "execution_count": 157,
     "metadata": {},
     "output_type": "execute_result"
    }
   ],
   "source": [
    "# Split into training and validation\n",
    "\n",
    "x_train = x[:9]\n",
    "X_train = np.column_stack((np.ones(len(x_train)),x_train))\n",
    "Y_train = y[:9]\n",
    "\n",
    "# Compute the weights\n",
    "\n",
    "w = np.linalg.inv(X_train.T @ X_train) @ X_train.T @ Y_train\n",
    "X_pred = np.column_stack((np.ones(len(x[9:])),x[9:]))\n",
    "\n",
    "# Compute prediction\n",
    "\n",
    "Y_pred = X_pred @ w\n",
    "Y_pred\n",
    "\n",
    "# Compute Mean Sum of Error\n",
    "\n",
    "MSE5 = 0.5*sum((Y_pred - y[10:])**2)\n",
    "MSE5"
   ]
  },
  {
   "cell_type": "markdown",
   "id": "1d0edfb7",
   "metadata": {},
   "source": [
    "<img src=\"fold2.png\"/>"
   ]
  },
  {
   "cell_type": "code",
   "execution_count": 158,
   "id": "ab7f0a25",
   "metadata": {},
   "outputs": [
    {
     "data": {
      "text/plain": [
       "5.179170005343019e-06"
      ]
     },
     "execution_count": 158,
     "metadata": {},
     "output_type": "execute_result"
    }
   ],
   "source": [
    "# Split into training and validation\n",
    "\n",
    "x_train = np.concatenate((x[:6],x[8:]))\n",
    "X_train = np.column_stack((np.ones(len(x_train)),x_train))\n",
    "Y_train = np.concatenate((y[:6],y[8:]))\n",
    "\n",
    "# Compute the weights\n",
    "\n",
    "w = np.linalg.inv(X_train.T @ X_train) @ X_train.T @ Y_train\n",
    "X_pred = np.column_stack((np.ones(len(x[6:8])),x[6:8]))\n",
    "\n",
    "# Compute prediction\n",
    "\n",
    "Y_pred = X_pred @ w\n",
    "Y_pred\n",
    "\n",
    "# Compute Mean Sum of Error\n",
    "\n",
    "MSE6 = 0.5*sum((Y_pred - y[6:8])**2)\n",
    "MSE6"
   ]
  },
  {
   "cell_type": "markdown",
   "id": "19b7895c",
   "metadata": {},
   "source": [
    "<img src=\"fold3.png\"/>"
   ]
  },
  {
   "cell_type": "code",
   "execution_count": 159,
   "id": "9789fca5",
   "metadata": {},
   "outputs": [
    {
     "data": {
      "text/plain": [
       "1.9328759040103962e-05"
      ]
     },
     "execution_count": 159,
     "metadata": {},
     "output_type": "execute_result"
    }
   ],
   "source": [
    "# Split into training and validation\n",
    "\n",
    "x_train = np.concatenate((x[:3],x[5:]))\n",
    "X_train = np.column_stack((np.ones(len(x_train)),x_train))\n",
    "Y_train = np.concatenate((y[:3],y[5:]))\n",
    "\n",
    "# Compute the weights\n",
    "\n",
    "w = np.linalg.inv(X_train.T @ X_train) @ X_train.T @ Y_train\n",
    "X_pred = np.column_stack((np.ones(len(x[4:5])),x[4:5]))\n",
    "\n",
    "# Compute prediction\n",
    "\n",
    "Y_pred = X_pred @ w\n",
    "Y_pred\n",
    "\n",
    "# Compute Mean Sum of Error\n",
    "\n",
    "MSE7 = 0.5*sum((Y_pred - y[3:5])**2)\n",
    "MSE7"
   ]
  },
  {
   "cell_type": "markdown",
   "id": "95af2582",
   "metadata": {},
   "source": [
    "<img src=\"fold4.png\"/>"
   ]
  },
  {
   "cell_type": "code",
   "execution_count": 160,
   "id": "a8b96137",
   "metadata": {},
   "outputs": [
    {
     "data": {
      "text/plain": [
       "7.846155864196112e-07"
      ]
     },
     "execution_count": 160,
     "metadata": {},
     "output_type": "execute_result"
    }
   ],
   "source": [
    "# Split into training and validation\n",
    "\n",
    "x_train = x[2:]\n",
    "X_train = np.column_stack((np.ones(len(x_train)),x_train))\n",
    "Y_train = y[2:]\n",
    "\n",
    "# Compute the weights\n",
    "\n",
    "w = np.linalg.inv(X_train.T @ X_train) @ X_train.T @ Y_train\n",
    "X_pred = np.column_stack((np.ones(len(x[:2])),x[:2]))\n",
    "\n",
    "# Compute prediction\n",
    "\n",
    "Y_pred = X_pred @ w\n",
    "Y_pred\n",
    "\n",
    "# Compute Mean Sum of Error\n",
    "\n",
    "MSE8 = 0.5*sum((Y_pred - y[:2])**2)\n",
    "MSE8"
   ]
  },
  {
   "cell_type": "markdown",
   "id": "0e0f0c83",
   "metadata": {},
   "source": [
    "## Green Diode Laser"
   ]
  },
  {
   "cell_type": "code",
   "execution_count": 161,
   "id": "0ea4da55",
   "metadata": {},
   "outputs": [],
   "source": [
    "x = np.array([0,5,10,15,20,25,30,35,40,45,50])\n",
    "y = np.array([1.3376,1.3467,1.3557,1.3655,1.3742,1.3830,1.3916,1.3991,1.4078,1.4174,1.4272])"
   ]
  },
  {
   "cell_type": "markdown",
   "id": "237cf64a",
   "metadata": {},
   "source": [
    "<img src=\"fold1.png\"/>"
   ]
  },
  {
   "cell_type": "code",
   "execution_count": 162,
   "id": "21ada571",
   "metadata": {},
   "outputs": [
    {
     "data": {
      "text/plain": [
       "4.844170694444652e-05"
      ]
     },
     "execution_count": 162,
     "metadata": {},
     "output_type": "execute_result"
    }
   ],
   "source": [
    "# Split into training and validation\n",
    "\n",
    "x_train = x[:9]\n",
    "X_train = np.column_stack((np.ones(len(x_train)),x_train))\n",
    "Y_train = y[:9]\n",
    "\n",
    "# Compute the weights\n",
    "\n",
    "w = np.linalg.inv(X_train.T @ X_train) @ X_train.T @ Y_train\n",
    "X_pred = np.column_stack((np.ones(len(x[9:])),x[9:]))\n",
    "\n",
    "# Compute prediction\n",
    "\n",
    "Y_pred = X_pred @ w\n",
    "Y_pred\n",
    "\n",
    "# Compute Mean Sum of Error\n",
    "\n",
    "MSE9 = 0.5*sum((Y_pred - y[10:])**2)\n",
    "MSE9"
   ]
  },
  {
   "cell_type": "markdown",
   "id": "18a8ca17",
   "metadata": {},
   "source": [
    "<img src=\"fold2.png\"/>"
   ]
  },
  {
   "cell_type": "code",
   "execution_count": 163,
   "id": "59f15819",
   "metadata": {},
   "outputs": [
    {
     "data": {
      "text/plain": [
       "5.624786324788139e-07"
      ]
     },
     "execution_count": 163,
     "metadata": {},
     "output_type": "execute_result"
    }
   ],
   "source": [
    "# Split into training and validation\n",
    "\n",
    "x_train = np.concatenate((x[:6],x[8:]))\n",
    "X_train = np.column_stack((np.ones(len(x_train)),x_train))\n",
    "Y_train = np.concatenate((y[:6],y[8:]))\n",
    "\n",
    "# Compute the weights\n",
    "\n",
    "w = np.linalg.inv(X_train.T @ X_train) @ X_train.T @ Y_train\n",
    "X_pred = np.column_stack((np.ones(len(x[6:8])),x[6:8]))\n",
    "\n",
    "# Compute prediction\n",
    "\n",
    "Y_pred = X_pred @ w\n",
    "Y_pred\n",
    "\n",
    "# Compute Mean Sum of Error\n",
    "\n",
    "MSE10 = 0.5*sum((Y_pred - y[6:8])**2)\n",
    "MSE10"
   ]
  },
  {
   "cell_type": "markdown",
   "id": "51e8636b",
   "metadata": {},
   "source": [
    "<img src=\"fold3.png\"/>"
   ]
  },
  {
   "cell_type": "code",
   "execution_count": 164,
   "id": "ac981e2f",
   "metadata": {},
   "outputs": [
    {
     "data": {
      "text/plain": [
       "3.0878136094670755e-05"
      ]
     },
     "execution_count": 164,
     "metadata": {},
     "output_type": "execute_result"
    }
   ],
   "source": [
    "# Split into training and validation\n",
    "\n",
    "x_train = np.concatenate((x[:3],x[5:]))\n",
    "X_train = np.column_stack((np.ones(len(x_train)),x_train))\n",
    "Y_train = np.concatenate((y[:3],y[5:]))\n",
    "\n",
    "# Compute the weights\n",
    "\n",
    "w = np.linalg.inv(X_train.T @ X_train) @ X_train.T @ Y_train\n",
    "X_pred = np.column_stack((np.ones(len(x[4:5])),x[4:5]))\n",
    "\n",
    "# Compute prediction\n",
    "\n",
    "Y_pred = X_pred @ w\n",
    "Y_pred\n",
    "\n",
    "# Compute Mean Sum of Error\n",
    "\n",
    "MSE11 = 0.5*sum((Y_pred - y[3:5])**2)\n",
    "MSE11"
   ]
  },
  {
   "cell_type": "markdown",
   "id": "34378051",
   "metadata": {},
   "source": [
    "<img src=\"fold4.png\"/>"
   ]
  },
  {
   "cell_type": "code",
   "execution_count": 165,
   "id": "5047c1e4",
   "metadata": {},
   "outputs": [
    {
     "data": {
      "text/plain": [
       "1.0361882716054734e-06"
      ]
     },
     "execution_count": 165,
     "metadata": {},
     "output_type": "execute_result"
    }
   ],
   "source": [
    "# Split into training and validation\n",
    "\n",
    "x_train = x[2:]\n",
    "X_train = np.column_stack((np.ones(len(x_train)),x_train))\n",
    "Y_train = y[2:]\n",
    "\n",
    "# Compute the weights\n",
    "\n",
    "w = np.linalg.inv(X_train.T @ X_train) @ X_train.T @ Y_train\n",
    "X_pred = np.column_stack((np.ones(len(x[:2])),x[:2]))\n",
    "\n",
    "# Compute prediction\n",
    "\n",
    "Y_pred = X_pred @ w\n",
    "Y_pred\n",
    "\n",
    "# Compute Mean Sum of Error\n",
    "\n",
    "MSE12 = 0.5*sum((Y_pred - y[:2])**2)\n",
    "MSE12"
   ]
  },
  {
   "cell_type": "code",
   "execution_count": 166,
   "id": "1b9a7848",
   "metadata": {},
   "outputs": [],
   "source": [
    "MSE = np.array([MSE1,MSE2,MSE3,MSE4,MSE5,MSE6,MSE7,MSE8,MSE9,MSE10,MSE11,MSE12])"
   ]
  },
  {
   "cell_type": "code",
   "execution_count": 167,
   "id": "cee3c3f4",
   "metadata": {},
   "outputs": [
    {
     "data": {
      "text/plain": [
       "3"
      ]
     },
     "execution_count": 167,
     "metadata": {},
     "output_type": "execute_result"
    }
   ],
   "source": [
    "np.argmin(MSE)"
   ]
  },
  {
   "cell_type": "code",
   "execution_count": 168,
   "id": "e75cd5c0",
   "metadata": {},
   "outputs": [
    {
     "data": {
      "text/plain": [
       "Text(0, 0.5, 'MSE')"
      ]
     },
     "execution_count": 168,
     "metadata": {},
     "output_type": "execute_result"
    },
    {
     "data": {
      "image/png": "[encoded data removed]",
      "text/plain": [
       "<Figure size 432x288 with 1 Axes>"
      ]
     },
     "metadata": {
      "needs_background": "light"
     },
     "output_type": "display_data"
    }
   ],
   "source": [
    "index = [1,2,3,4,5,6,7,8,9,10,11,12]\n",
    "plt.plot(index,MSE)\n",
    "plt.xlabel('index')\n",
    "plt.ylabel('MSE')"
   ]
  },
  {
   "cell_type": "code",
   "execution_count": 169,
   "id": "7165bcf3",
   "metadata": {},
   "outputs": [
    {
     "data": {
      "text/plain": [
       "Text(0, 0.5, 'MSE')"
      ]
     },
     "execution_count": 169,
     "metadata": {},
     "output_type": "execute_result"
    },
    {
     "data": {
      "image/png": "[encoded data removed]",
      "text/plain": [
       "<Figure size 432x288 with 1 Axes>"
      ]
     },
     "metadata": {
      "needs_background": "light"
     },
     "output_type": "display_data"
    }
   ],
   "source": [
    "tick_label = ['MSE1','MSE2','MSE3','MSE4','MSE5','MSE6','MSE7','MSE8','MSE9','MSE10','MSE11','MSE12']\n",
    "plt.bar(index,MSE,tick_label = tick_label, width = 0.8, color = 'skyblue')\n",
    "plt.xlabel('index')\n",
    "plt.ylabel('MSE')"
   ]
  },
  {
   "cell_type": "code",
   "execution_count": 170,
   "id": "9a3bead8",
   "metadata": {},
   "outputs": [
    {
     "data": {
      "text/plain": [
       "<BarContainer object of 4 artists>"
      ]
     },
     "execution_count": 170,
     "metadata": {},
     "output_type": "execute_result"
    },
    {
     "data": {
      "image/png": "[encoded data removed]",
      "text/plain": [
       "<Figure size 432x288 with 1 Axes>"
      ]
     },
     "metadata": {
      "needs_background": "light"
     },
     "output_type": "display_data"
    }
   ],
   "source": [
    "index = [4,8,10,12]\n",
    "MSE = [MSE4,MSE8,MSE10,MSE12]\n",
    "tick_label = ['MSE4','MSE8','MSE10','MSE12']\n",
    "plt.bar(index,MSE,tick_label = tick_label, width = 0.8, color = 'skyblue')"
   ]
  }
 ],
 "metadata": {
  "kernelspec": {
   "display_name": "Python 3 (ipykernel)",
   "language": "python",
   "name": "python3"
  },
  "language_info": {
   "codemirror_mode": {
    "name": "ipython",
    "version": 3
   },
   "file_extension": ".py",
   "mimetype": "text/x-python",
   "name": "python",
   "nbconvert_exporter": "python",
   "pygments_lexer": "ipython3",
   "version": "3.10.1"
  }
 },
 "nbformat": 4,
 "nbformat_minor": 5
}
